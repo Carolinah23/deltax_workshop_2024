





## if running in Google Colab, uncomment the lines below

# !pip install rasterio
# !pip install earthaccess

# !apt install gdal-bin
# !gdalinfo --version


import sys
import os
from pathlib import Path
import rasterio
import matplotlib.pyplot as plt
from  matplotlib.colors import ListedColormap, BoundaryNorm
from  matplotlib.cm import ScalarMappable
import math
import pandas as pd
import earthaccess
import cartopy.crs as ccrs
import imageio
from osgeo import gdal, ogr

earthaccess.login()







# if os.path.isdir('/content/deltax_workshop_2024'):
#   !rm -r /content/deltax_workshop_2024
# ! git clone https://github.com/achri19/deltax_workshop_2024.git

# %cd /content/deltax_workshop_2024/tutorials/6_NUMARModel/Landscape_example

# sys.path.append('/content/deltax_workshop_2024/tutorials/6_NUMARModel/src')



example_dir = Path(os.getcwd())
repo_dir = example_dir.parent.absolute()
script_dir = repo_dir / 'src'
working_dir = repo_dir / 'data'
tmp_dir = example_dir / 'TMP'
Path(tmp_dir).mkdir(parents=True, exist_ok=True)
sys.path.insert(1,str(script_dir))






from landscape import run_numar
from input_files import *


Path(tmp_dir).mkdir(parents=True, exist_ok=True)
ref_file = example_dir / 'aoi_4326.shp'
res = 30
AOI = gpd.read_file(ref_file)
bounds_4326 =  AOI.total_bounds

x1,y1,x2,y2 = math.floor(bounds_4326[0]),math.floor(bounds_4326[3]),math.floor(bounds_4326[2]),math.floor(bounds_4326[1])

zone = int(np.ceil((bounds_4326[0] + 180)/6))

if y1>=0 and y2>=0:
    NS = 'n'
    EPSG = 32200+zone
elif y1>=0 and y2<0:
    NS = 'n'
    NS2 = 's'
    EPSG = 32200+zone
else:
    NS = 's'
    y = abs(y1)
    EPSG = 32700+zone
if x1>=0:
    EW = 'e'
elif x1<0 and x2>=0:
    EW = 'e'
    EW2 = 'w'
else:
    EW = 'w'
    x = abs(x1)
print('UTM Zone: %s%s EPSG: %s' %(zone,NS,EPSG))

AOI_utm = AOI.to_crs(EPSG)
AOI_utm.to_file(tmp_dir / ('aoi_%s.shp' %(EPSG)))
os.system("gdal_rasterize -burn 0 -tr %s %s %s %s" %(res,res,tmp_dir/('aoi_%s.shp'%(EPSG)),example_dir / ('aoi_%s.tif'%(EPSG))))
# command = "gdal_rasterize -burn 0 -tr %s %s %s %s" %(res,res,example_dir/('aoi_%s.shp'%(EPSG)),example_dir / ('aoi_%s.tif'%(EPSG)))
# !{command}



ref_file = example_dir / ('aoi_%s.tif' %(EPSG))
AOI = rasterio.open(ref_file)

profile = AOI.profile






AGB, SALINITY, LANDCOVER, MORPHO, BASINS, CLASSES, mask, lats,lons = get_input_files(AOI,example_dir,working_dir,tmp_dir,EPSG,bounds_4326)






fig, [[ax1,ax2],[ax3,ax4]] = plt.subplots(2,2,figsize = (20,10))

im1 = ax1.imshow(AGB*mask,vmin=0,vmax=15,interpolation='nearest')
ax1.set_title('AVIRIS-NG Biomass (Mg/Ha)')
fig.colorbar(im1,ax = ax1)


colors = ['#00a000','#966400','#ffb400','#ffff64','#c31400','#fff5d7','#ffffff','#0046c8','#00dc82','#009678','#ffebaf']
values = [10,20,30,40,50,60,70,80,90,95,100]
labels = ["Tree cover","Shrubland","Grassland","Cropland","Built-up","Bare / sparse vegetation","Snow and ice","Permanent water bodies","Herbaceous wetland","Mangroves","Moss and lichen"]
bounds = np.append(values, values[-1] + 2)
ticks = [15,25,35,45,55,65,75,85,93,97,101]
cmap = ListedColormap(colors)
norm = BoundaryNorm(bounds, ncolors=len(colors))
im2 = ax2.imshow(LANDCOVER*mask,cmap=cmap,norm=norm,interpolation='nearest')
ax2.set_title('WorldCover 2021')
cbar = fig.colorbar(im2,ax=ax2,ticks = ticks)
cbar.ax.set_yticklabels(labels)  # horizontal colorbar


colors = ['#ffff00','#894444','#4ce600','#ff00c5','#73ffdf','#ff0000','#0070ff']
values =[1,2,3,4,5,6,7]
labels = ['Other/Urban','Forested Wetland','Fresh Marsh','Intermed Marsh','Brackish Marsh','Saline Marsh','Open Water']
bounds = np.append(values, values[-1] + 1)
ticks = [1.5,2.5,3.5,4.5,5.5,6.5,7.5]
cmap = ListedColormap(colors)
norm = BoundaryNorm(bounds, ncolors=len(colors))
im3 = ax3.imshow(SALINITY*mask,cmap=cmap,norm=norm,interpolation='nearest')
cbar = fig.colorbar(im3,ax=ax3,ticks = ticks)
cbar.ax.set_yticklabels(labels)  # horizontal colorbar
ax3.set_title('Salinity Type')


im4 = ax4.imshow(MORPHO*mask,vmin=0,vmax=.5,interpolation='nearest')
ax4.set_title('Mineral Deposition (g/cm2/yr)')
fig.colorbar(im4,ax = ax4)






run_config = pd.DataFrame({
                    'lat':lats.flatten(),
                    'long':lons.flatten()
                        })


parameters_df = pd.read_csv(script_dir/'parameters_by_class.csv')
parameters = parameters_df.columns



for parameter in parameters[2:14]:
    print(parameter)
    lut = parameters_df[parameter].values
    output = lut[CLASSES]*mask
    run_config[parameter] = output.flatten()


oms = calculate_organicmatter_loading(MORPHO,CLASSES,mask,parameters_df['omssi'].values)
run_config['oms'] = oms.flatten()
run_config['si'] = MORPHO.flatten()

r0 = calculate_belowground_biomass(AGB,mask,CLASSES,parameters_df['e'].values,parameters_df['bgbagb'].values)
run_config['r0'] = r0.flatten()


run_config = run_config.dropna().reset_index()
run_config['id'] = run_config.index

print('There are %s pixels' %(len(run_config)))


run_config[:].to_csv(example_dir/'NUMAR_Landscape_Input.csv')


year100 = run_numar(example_dir/'NUMAR_Landscape_Input.csv',example_dir/'NUMAR_Landscape_Results.csv')


# year100 = pd.read_csv(example_dir/'NUMAR_Landscape_Results.csv')
year100


for year in np.arange(10,110,10):
    fig, ax= plt.subplots(1,1, subplot_kw={'projection': ccrs.epsg(EPSG)})
    sc = ax.scatter(year100['long'],year100['lat'],s=0.005,vmin=0,vmax=3, c=year100['Total Accretion %syrs (cm)' %(year)]/year)
    plt.colorbar(sc,label='Mean Accretion Rate (cm/yr)',shrink=0.3)
    plt.title('Year: ' + str(year))
    ax.set_extent([AOI.bounds.left,AOI.bounds.right,AOI.bounds.bottom,AOI.bounds.top], crs=ccrs.epsg(EPSG))
    fig.tight_layout()
    fig.savefig(example_dir/('MeanAccretion_Year%s.png'%(str(year).zfill(3))))
    plt.close()
fig, ax= plt.subplots(1,1, subplot_kw={'projection': ccrs.epsg(EPSG)})
sc = ax.scatter(year100['long'],year100['lat'],s=0.005,vmin=0,vmax=3, c=year100['Mean Accretion (cm/yr)'])
plt.colorbar(sc,label='Mean Accretion Rate (cm/yr)',shrink=0.3)
plt.title('Year: ' + str(year))
ax.set_extent([AOI.bounds.left,AOI.bounds.right,AOI.bounds.bottom,AOI.bounds.top], crs=ccrs.epsg(EPSG))
fig.tight_layout()
fig.savefig(example_dir/('MeanAccretion_100yr.png'))


all_figs = [os.path.join(dirpath,f)
                for dirpath,dirnames, files in os.walk(example_dir)
                for f in fnmatch.filter(files,'MeanAccretion_Year*.png' )]
all_figs.sort()
with imageio.get_writer(example_dir / ('MeanAccretion_all.gif' ),mode='I',duration=500) as writer:
    for file in all_figs:
        image = imageio.imread(file)
        writer.append_data(image)




os.system('rm -r %s' %(tmp_dir))



