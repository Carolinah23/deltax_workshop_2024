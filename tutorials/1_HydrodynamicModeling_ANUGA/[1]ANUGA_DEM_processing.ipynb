{
 "cells": [
  {
   "cell_type": "markdown",
   "id": "41df66b5-dea2-4739-882a-2187c764b2ec",
   "metadata": {},
   "source": [
    "[![Open In Colab](https://colab.research.google.com/assets/colab-badge.svg)](https://colab.research.google.com/github/soloyant/deltax_workshop_2024/blob/main/tutorials/1_HydrodynamicModeling_ANUGA/[1]ANUGA_DEM_processing.ipynb)\n",
    "\n",
    "<div style=\"text-align: center;\">\n",
    "    <img src=\"notebook_illustrations/deltax_2020.png\" alt=\"Delta-X Logo\" style=\"height: 100px; width: auto; display: inline;\">\n",
    "    <img src=\"notebook_illustrations/Tribrand_ColorBlack_rgb_16x3_160601.png\" alt=\"JPL Logo\" style=\"height: 100px; width: auto; display: inline;\">\n",
    "</div>\n",
    "<h1 style=\"text-align: center;\">Delta-X 2024 Application Workshop - May 8, 2024</h1>\n",
    "<h2 style=\"text-align: center;\">Anuga Hydrodynamic Modeling: Hands On Exercises</h2>\n",
    "\n",
    "<h3>Author information:</h3>\n",
    "\n",
    "Antoine Soloy, PhD  \n",
    "Division 334F, Caltech - Jet Propulsion Laboratory  \n",
    "4800 Oak Grove Drive, Pasadena, CA, USA  91109-8099  \n",
    "Contact: antoine.soloy@jpl.nasa.gov\n",
    "\n",
    "<h3>Notebook Description:</h3>\n",
    "\n",
    "The present notebook is the first one in a series of five on how to use the ANUGA hydrodynamic model to generate simple simulations of coastal esturarine systems, including:  \n",
    "- [1]ANUGA_DEM_preprocessing.ipynb : Modifications to the Digital Elevation Model to optimize hydrological connectivity.  \n",
    "- [2]ANUGA_friction_map_generation.ipynb : Generation of a land & water classification map for friction calibration purpose.\n",
    "- [3]ANUGA_model_run.ipynb : Setting up of the hydrodynamic model and run.\n",
    "- [4]ANUGA_output_analysis.ipynb : Output reading and generation of animations\n",
    "- [5]ANUGA_model_validation.ipynb : Comparison between in-situ/remote sensing data and model predictions\n",
    "\n",
    "<h3>Necessary Datasets:</h3>\n",
    "\n",
    "Please ensure that all the following datasets were downloaded and placed into the \"data\" subfolder. Zip files should be unziped in the same folder, keeping the original tree structure intact.\n",
    "\n",
    "<h4>Delta-X Digital Elevation Model (DEM) and Water Mask</h4>\n",
    "\n",
    "- Download link: https://daac.ornl.gov/cgi-bin/dsviewer.pl?ds_id=2181  \n",
    "- Citation: Christensen, A.L., M.W. Denbina, and M. Simard. 2023. Delta-X: Digital Elevation Model, MRD, LA, USA, 2021. ORNL DAAC, Oak Ridge, Tennessee, USA. https://doi.org/10.3334/ORNLDAAC/2181  \n",
    "\n",
    "<h4>Delta-X Vegetation Classification Map</h4>\n",
    "\n",
    "- Download link: https://drive.google.com/file/d/1OSyAWekAuXGFz3yLRz61PlLuQgj2FkGa/view?usp=drive_link  \n",
    "- Citation: Jensen, D.J., E. CastaÃƒÂ±eda-Moya, E. Solohin, D.R. Thompson, and M. Simard. 2024. Delta-X AVIRIS-NG L3 Derived Vegetation Types, MRD, Louisiana, USA. ORNL DAAC, Oak Ridge, Tennessee, USA. https://doi.org/10.3334/ORNLDAAC/2352  \n",
    "\n",
    "<h4>Delta-X AirSWOT L3 Water Surface Elevations</h4>\n",
    "\n",
    "- Download link: https://daac.ornl.gov/cgi-bin/dsviewer.pl?ds_id=2349  \n",
    "- Citation: Denbina, M.W., M. Simard, and E. Rodriguez. 2024. Delta-X: AirSWOT L3 Water Surface Elevations, MRD, Louisiana, 2021, V2. ORNL DAAC, Oak Ridge, Tennessee, USA. https://doi.org/10.3334/ORNLDAAC/2349  \n",
    "\n",
    "<h4>JPL Mississippi River Centerlines</h4>\n",
    "\n",
    "- Download link: https://landscape.jpl.nasa.gov/cgi-bin/data-search.pl  \n",
    "- Citation: Christensen, A.L., Soloy, A., Savelli, R., Moritz, J.M., & Simard, M. (2023b). Centerlines of the Mississippi River (V1.0) [Data file]. Retrieved from https://landscape.jpl.nasa.gov/cgi-bin/data-search.pl  \n",
    "\n",
    "<h4>CRMS water level gauges</h4>\n",
    "\n",
    "- Download link: https://drive.google.com/file/d/1WjOSv8XcYZwkN_-oPdsdXH_5Lg2zcp5x/view?usp=drive_link  \n",
    "- Citation: Coastal Protection and Restoration Authority (CPRA) of Louisiana. 2024. Coastwide Reference Monitoring System-Wetlands Monitoring Data. Retrieved from Coastal Information Management System (CIMS) database. http://cims.coastal.louisiana.gov. Accessed 24 January 2024\n",
    "\n"
   ]
  },
  {
   "cell_type": "markdown",
   "id": "9564181f-cf8b-4461-b0c1-ea4622356722",
   "metadata": {},
   "source": [
    "## I - Import packages and define the working directories"
   ]
  },
  {
   "cell_type": "code",
   "execution_count": null,
   "id": "f563e4c7-1bbd-4278-8891-8ff9bfdd1bf4",
   "metadata": {},
   "outputs": [],
   "source": [
    "import sys\n",
    "\n",
    "if 'google.colab' in sys.modules:\n",
    "  # In case the notebook is opened in google collab, here we download/install all the files we need behind the scenes\n",
    "  try:\n",
    "      import os\n",
    "      os.chdir('/content')\n",
    "      # Grab workbook files into colab directory\n",
    "      !git clone https://github.com/soloyant/deltax_workshop_2024.git\n",
    "      # Install everything using some bash scripts\n",
    "      !/bin/bash /content/deltax_workshop_2024/tutorials/1_HydrodynamicModeling_ANUGA/utils/anuga_tools/install_anuga_colab.sh\n",
    "      os.chdir('/content/deltax_workshop_2024/tutorials/1_HydrodynamicModeling_ANUGA/')\n",
    "  except:\n",
    "      pass"
   ]
  },
  {
   "cell_type": "code",
   "execution_count": null,
   "id": "662eb659-e567-4cdc-b11f-94c45d180a85",
   "metadata": {},
   "outputs": [],
   "source": [
    "import pandas as pd\n",
    "import geopandas as gpd\n",
    "import rasterio as rio\n",
    "import numpy as np\n",
    "import os\n",
    "from scipy import ndimage\n",
    "import matplotlib.pyplot as plt\n",
    "import cmocean\n",
    "import shutil\n",
    "from pathlib import Path\n",
    "from tqdm import notebook\n",
    "from utils import data_processing_tools as dpt\n",
    "\n",
    "# Define the path to scripts and data\n",
    "workshop_dir = os.getcwd()\n",
    "# # Alternatively:\n",
    "# workshop_dir = '/path/to/1_HydrodynamicModeling_ANUGA'\n",
    "data_dir = os.path.join(workshop_dir, 'data')\n",
    "model_inputs_dir = os.path.join(workshop_dir, 'model_inputs')\n",
    "model_outputs_dir = os.path.join(workshop_dir, 'model_outputs')\n",
    "if 'google.colab' in sys.modules:\n",
    "    data_dir = os.path.join(data_dir, 'collab')\n",
    "    model_inputs_dir = os.path.join(model_inputs_dir, 'collab')\n",
    "    model_outputs_dir = os.path.join(model_outputs_dir, 'collab')\n",
    "model_visuals_dir = os.path.join(workshop_dir, 'visuals')\n",
    "model_validation_dir = os.path.join(workshop_dir, 'validation')\n",
    "\n",
    "for d in [model_inputs_dir, model_outputs_dir, model_visuals_dir, model_validation_dir]:\n",
    "    Path(d).mkdir(parents=True, exist_ok=True)\n",
    "        "
   ]
  },
  {
   "cell_type": "markdown",
   "id": "d48a65d0-0fb5-4749-a238-f479a042eee4",
   "metadata": {},
   "source": [
    "## II - Domain definition"
   ]
  },
  {
   "cell_type": "markdown",
   "id": "e3e0153c-9738-4921-adb3-7886f9edf62c",
   "metadata": {},
   "source": [
    "Let us draw the external boundaries of our model domain considering all applicable constrains (i.e., watershed isolation, data availability, computational limitations, etc.).  \n",
    "To do this, **run the next cell**, then **select the polygon tool** on the left pannel and **draw a polygon** delimiting your region of interest.  \n",
    "**Clic on \"Save Coordinates\"** at the bottom left of the map to save the result.\n"
   ]
  },
  {
   "cell_type": "code",
   "execution_count": null,
   "id": "667c7a96-282a-47a1-96d2-42e5c9140962",
   "metadata": {},
   "outputs": [],
   "source": [
    "f_domain = os.path.join(data_dir, 'dxws_domain.shp')\n",
    "epsg=32615\n",
    "if 'google.colab' not in sys.modules:\n",
    "    dpt.draw_polygon(filename=f_domain, epsg=epsg)"
   ]
  },
  {
   "cell_type": "markdown",
   "id": "e547f6ca-4a15-4930-a0a3-0d05abcc42f5",
   "metadata": {},
   "source": [
    "## III - DEM clipping"
   ]
  },
  {
   "cell_type": "markdown",
   "id": "f2023760-7835-4649-93e5-294a552a8278",
   "metadata": {},
   "source": [
    "To optimize the modeling workflow, we will clip our Digital Elevation Model (DEM) using the freshly drawn polygon and apply all the necessary file type conversions."
   ]
  },
  {
   "cell_type": "code",
   "execution_count": null,
   "id": "afbd2755-1ef6-4bb4-b06d-26aaf109f62f",
   "metadata": {},
   "outputs": [],
   "source": [
    "## Import the datasets\n",
    "\n",
    "# Domain\n",
    "domain_gdf = gpd.read_file(f_domain)\n",
    "\n",
    "# DEM\n",
    "f_DEM_tif = os.path.join(data_dir, 'DeltaX_MultiSource_DEM_Atchafalaya-Terrebonne_Basin_2021_V1.tif')\n",
    "if 'google.colab' in sys.modules:\n",
    "    f_DEM_tif = os.path.join(data_dir, 'DeltaX_MultiSource_DEM_Atchafalaya-Terrebonne_Basin_2021_V1_clipped.tif')\n",
    "DEM_src = rio.open(f_DEM_tif)\n",
    "DEM = DEM_src.read(1)\n",
    "resolution = DEM_src.res[0]\n",
    "\n",
    "# Background imagery\n",
    "f_bg_img_tif = os.path.join(data_dir, 'misissippi_S2_background_image.tif')\n",
    "bg_img_src = rio.open(f_bg_img_tif)\n",
    "bg_img = np.stack([bg_img_src.read(i) for i in range(1, bg_img_src.count+1)], axis=2)\n",
    "bg_img_extent = [bg_img_src.bounds.left, bg_img_src.bounds.right,\n",
    "                 bg_img_src.bounds.bottom, bg_img_src.bounds.top]"
   ]
  },
  {
   "cell_type": "markdown",
   "id": "852c52bd-1c1e-4f2f-adca-9298e4904aaf",
   "metadata": {},
   "source": [
    "To avoid any aliasing/extraction artifacts, we first need to buffer the domain by a few times the resolution of the DEM, and then apply the clipping process."
   ]
  },
  {
   "cell_type": "code",
   "execution_count": null,
   "id": "8ba6cc0a-70e4-432b-b102-4bd34466e983",
   "metadata": {},
   "outputs": [],
   "source": [
    "# Buffer domain polygon\n",
    "f_clipper_line_buffered = f_domain.replace('.shp', '_buffered.shp')\n",
    "dpt.createBuffer(f_domain, f_clipper_line_buffered, 10*resolution)\n",
    "\n",
    "# Clip DEM with buffered domain polygon\n",
    "f_DEM_clipped_tif = f_DEM_tif.replace('.tif', '_clipped.tif')\n",
    "!gdalwarp -cutline $f_clipper_line_buffered -crop_to_cutline $f_DEM_tif $f_DEM_clipped_tif -dstnodata -9999 -overwrite\n"
   ]
  },
  {
   "cell_type": "code",
   "execution_count": null,
   "id": "8964e353-a708-4432-8b67-bfca6f840f96",
   "metadata": {},
   "outputs": [],
   "source": [
    "# Import and load freshly clipped DEM\n",
    "DEM_src = rio.open(f_DEM_clipped_tif)\n",
    "extent = [DEM_src.bounds.left, DEM_src.bounds.right,\n",
    "          DEM_src.bounds.bottom, DEM_src.bounds.top]\n",
    "DEM = DEM_src.read(1)\n",
    "DEM_no_data = DEM_src.nodatavals[0]\n",
    "if DEM_no_data is not None:\n",
    "    DEM = np.where(DEM == DEM_no_data, np.nan, DEM)\n",
    "\n",
    "# Data visualization\n",
    "fig, ax = plt.subplots(1,1, figsize=(5, 5), dpi=200)\n",
    "\n",
    "ax.imshow(bg_img, extent=bg_img_extent)\n",
    "im1 = ax.imshow(DEM, cmap='cmo.topo', vmin=-3, vmax=3, extent=extent)\n",
    "ax.set_title('DEM')\n",
    "plt.colorbar(im1)\n",
    "\n",
    "plt.savefig(os.path.join(model_visuals_dir, 'DEM.png'))\n",
    "plt.show()"
   ]
  },
  {
   "cell_type": "markdown",
   "id": "fff7c1f0-f928-4996-b5e7-66675699c87a",
   "metadata": {},
   "source": [
    "## IV - Channel carving"
   ]
  },
  {
   "attachments": {},
   "cell_type": "markdown",
   "id": "8e7bdc43-c66d-40c0-b2df-028a400344a6",
   "metadata": {},
   "source": [
    "Large scale DEMs are often imprecise regarding smaller scale features. This is especially true for morphologically complex and vegetated regions such as the Mississippi River Delta. Despite encompassing a large amount of data from various sources, the DEM generated in the framework of the Delta-X Mission is not exempt of such issues and unfortunately lacks some channels and islands, thereby limiting the hydrological conectivity of the system.  \n",
    "To partially overcome this problem and ensure an optimal connectivity in the river network, we will use the global dataset of river delta centerlines published by JPL and artificially carve the channels that may not appear in the original DEM.  \n",
    "The proposed methodology is the following: (1) Pre-proecess the centerlines, (2) Convert them into polygons, then rasterize the polygons (3) Use the raster to compute artificial channel profiles, and (4) For each pixel, keep the minimum depth value between the original and the artificial DEMs.  \n",
    "First, please **download the Mississippi River centerlines** at *https://landscape.jpl.nasa.gov/cgi-bin/data-search.pl*, unzip the file and place it in the workshop data directory. Then, let us **run the next cells**."
   ]
  },
  {
   "cell_type": "markdown",
   "id": "1289df36-ec09-4422-bcf1-1e287786a1f2",
   "metadata": {},
   "source": [
    "### 1 - Pre-processing"
   ]
  },
  {
   "cell_type": "code",
   "execution_count": null,
   "id": "e54eac51-c9a9-4e50-aeb9-02b8d69b394d",
   "metadata": {},
   "outputs": [],
   "source": [
    "# Define file paths\n",
    "f_centerlines_shp = os.path.join(data_dir, 'mississippi_River_Centerlines_V1/mississippi_River_Centerlines_V1.shp')\n",
    "f_centerlines_buffered_shp = f_centerlines_shp.replace('.shp', '_buffered.shp')\n",
    "f_centerlines_buffered_tif = f_centerlines_buffered_shp.replace('.shp', '.tif')\n",
    "\n",
    "# Read and format centerline dataset\n",
    "centerlines_gdf = gpd.read_file(f_centerlines_shp).to_crs(epsg=epsg)\n",
    "\n",
    "# Resample the centerlines using a regular footstep\n",
    "centerlines_gdf = dpt.resample_gdf(centerlines_gdf, d=50)\n",
    "\n",
    "# Remove all centerlines located out of our model domain\n",
    "centerlines_gdf = centerlines_gdf.overlay(gpd.GeoDataFrame(geometry=[domain_gdf.buffer(resolution*10).geometry[0]]))"
   ]
  },
  {
   "cell_type": "markdown",
   "id": "312002cf-3325-4cbb-b33e-fd85d0d81e26",
   "metadata": {},
   "source": [
    "The water mask provided with the DEM dataset will be used to estimate the channel width, using a distance transform operation."
   ]
  },
  {
   "cell_type": "code",
   "execution_count": null,
   "id": "22138739-41a5-4b4c-9ddc-36d524da4c47",
   "metadata": {},
   "outputs": [],
   "source": [
    "# Load water mask\n",
    "f_water_mask_tif = os.path.join(data_dir, 'DeltaX_MultiSource_DEM_watermask_V1.tif')\n",
    "if 'google.colab' in sys.modules:\n",
    "    f_water_mask_tif = os.path.join(data_dir, 'DeltaX_MultiSource_DEM_watermask_V1_clipped.tif')\n",
    "water_mask_src = rio.open(f_water_mask_tif)\n",
    "water_mask = water_mask_src.read(1)\n",
    "\n",
    "# Clipping DEM with buffered domain polygon\n",
    "f_water_mask_clipped_tif = f_water_mask_tif.replace('.tif', '_clipped.tif')\n",
    "!gdalwarp -cutline $f_clipper_line_buffered -crop_to_cutline $f_water_mask_tif $f_water_mask_clipped_tif -dstnodata -9999 -overwrite\n",
    "\n",
    "# Load clipped water mask\n",
    "water_mask_src = rio.open(f_water_mask_clipped_tif)\n",
    "water_mask = water_mask_src.read(1)\n",
    "\n",
    "water_mask_no_data = water_mask_src.nodatavals[0]\n",
    "if water_mask_no_data is not None:\n",
    "    water_mask = np.where(water_mask == water_mask_no_data, np.nan, water_mask)\n",
    "\n",
    "# Compute distance to water line\n",
    "water_mask_dist = ndimage.distance_transform_edt(water_mask)\n",
    "\n",
    "fig, ax = plt.subplots(1, 1, figsize=(5, 5), dpi=200)\n",
    "ax.imshow(bg_img, extent=bg_img_extent)\n",
    "ax.imshow(water_mask, extent=extent, vmin=0, vmax=1, cmap='binary')\n",
    "centerlines_gdf.plot(ax=ax)\n",
    "ax.set_xlim(extent[0:2])\n",
    "ax.set_ylim(extent[2:])\n",
    "ax.set_title('Water mask with centerlines')\n",
    "\n",
    "plt.savefig(os.path.join(model_visuals_dir, 'watermask_with_centerlines.png'))\n",
    "plt.show()"
   ]
  },
  {
   "cell_type": "markdown",
   "id": "190daaa0-7947-4745-a49c-379c49848e45",
   "metadata": {},
   "source": [
    "### 2 - Polygonize and Rasterize centerlines"
   ]
  },
  {
   "cell_type": "markdown",
   "id": "d4eb92e8-004e-4592-b718-53a023f60763",
   "metadata": {},
   "source": [
    "This step allows us to define the *min_width* value at which all small channels will be enlarged. This can be useful when the resolution of the model mesh is limited in order to enforce connectivity in the system. We will also cap the carving to widths narrower than a *max_width* threshold in order to avoid overcarving the large features.  \n",
    "Variables *maxdepth* and *bank_slope_proxy* will be used to controle the morphology of the artificial channel profiles in the later steps."
   ]
  },
  {
   "cell_type": "code",
   "execution_count": null,
   "id": "b3d5342d-6d1f-4c40-8722-b4a3ba9b3018",
   "metadata": {},
   "outputs": [],
   "source": [
    "# Define the parameters for DEM carving\n",
    "\n",
    "min_width = 100        # All narrower channels will be enlarged up to this value (in meters)\n",
    "max_width = 250       # Maximum range of modifiable pixels from centerlines\n",
    "maxdepth = -3         # Maximum river carving depth\n",
    "bank_slope_proxy = 50  #]0 to inf[, lower numbers result in steeper bank slopes"
   ]
  },
  {
   "cell_type": "code",
   "execution_count": null,
   "id": "a576a45e-72bb-4517-95d9-0241dcff7028",
   "metadata": {},
   "outputs": [],
   "source": [
    "# Measure the missing widths from water mask\n",
    "centerlines_gdf['width_m'] = 0\n",
    "for j in notebook.tqdm(range(len(centerlines_gdf))):\n",
    "    extraction_coords = np.asarray(centerlines_gdf.iloc[j].geometry.centroid.xy)\n",
    "    extraction_rows, extraction_cols = water_mask_src.index(extraction_coords[0], extraction_coords[1])\n",
    "    try:\n",
    "        # Extracted values correspond to half the width (distance between bank and centerlines)\n",
    "        centerlines_gdf.loc[j, 'width_m'] = water_mask_dist[extraction_rows[0], extraction_cols[0]]*resolution*2\n",
    "    except:\n",
    "        centerlines_gdf.loc[j, 'width_m'] = np.nan\n",
    "\n",
    "# Remove all centerlines located out of our model domain\n",
    "centerlines_gdf = centerlines_gdf.dropna().reset_index(drop=True)\n",
    "\n",
    "# We assume that centerlines with width=0 correspond to channels narrower or as narrow as the data resolution\n",
    "centerlines_gdf.loc[centerlines_gdf['width_m']<min_width, 'width_m'] = min_width\n",
    "\n",
    "# Set a threshold to the max width to prevent overestimations and overcarving \n",
    "centerlines_gdf.loc[centerlines_gdf['width_m']>max_width, 'width_m'] = max_width"
   ]
  },
  {
   "cell_type": "code",
   "execution_count": null,
   "id": "8e3798d6-fc72-4070-94f5-d6f5d6008c30",
   "metadata": {},
   "outputs": [],
   "source": [
    "# Buffer centerlines with their width\n",
    "centerlines_gdf['geometry'] = centerlines_gdf['geometry'].buffer(centerlines_gdf['width_m']/2)\n",
    "centerlines_gdf.to_file(f_centerlines_buffered_shp)\n",
    "\n",
    "# Data visualization\n",
    "fig, ax = plt.subplots(1, 1, figsize=(5, 5), dpi= 200)\n",
    "ax.imshow(bg_img, extent=bg_img_extent)\n",
    "ax.imshow(water_mask, extent=extent, vmin=0, vmax=1, cmap='binary')\n",
    "centerlines_gdf.plot(ax=ax)\n",
    "ax.set_xlim(extent[0:2])\n",
    "ax.set_ylim(extent[2:])\n",
    "ax.set_title('Watermask with centerline polygons')\n",
    "\n",
    "plt.savefig(os.path.join(model_visuals_dir, 'watermask_with_centerlines_polygons.png'))\n",
    "plt.show()"
   ]
  },
  {
   "cell_type": "code",
   "execution_count": null,
   "id": "da907135-481a-479f-8684-69f37b063eca",
   "metadata": {},
   "outputs": [],
   "source": [
    "# Rasterize buffered vector of river centerlines\n",
    "te = str(extent[0])+' '+str(extent[2])+' '+str(extent[1])+' '+str(extent[3])\n",
    "!gdal_rasterize -burn 1 -tr $resolution $resolution -te $te -ot Int32 -of GTiff $f_centerlines_buffered_shp $f_centerlines_buffered_tif\n",
    "\n",
    "# Ensure that the new centerlines raster is aligned with the other data\n",
    "dpt.reproj_match(infile = f_centerlines_buffered_tif, \n",
    "             match = f_DEM_clipped_tif, \n",
    "             outfile = f_centerlines_buffered_tif)"
   ]
  },
  {
   "cell_type": "markdown",
   "id": "2ff9d556-cb65-495c-9873-55f2c2ac870e",
   "metadata": {},
   "source": [
    "### 3 - Compute artificial channel profiles"
   ]
  },
  {
   "cell_type": "markdown",
   "id": "b86cbbd4-5289-4454-ba6d-d0cea883b707",
   "metadata": {},
   "source": [
    "A hyperbolic tangent function is used to generate the U shape of channel profiles. "
   ]
  },
  {
   "cell_type": "code",
   "execution_count": null,
   "id": "08c47c7c-1fbf-4820-a837-19ad53743487",
   "metadata": {},
   "outputs": [],
   "source": [
    "# Load centerlines raster and calculate a parametric DEM\n",
    "centerlines_water_mask_src = rio.open(f_centerlines_buffered_tif)\n",
    "centerlines_water_mask = centerlines_water_mask_src.read(1)\n",
    "\n",
    "centerlines_water_mask_dist = ndimage.distance_transform_edt(centerlines_water_mask)\n",
    "\n",
    "centerlines_parametric_DEM = np.tanh((centerlines_water_mask_dist*resolution)/bank_slope_proxy) * maxdepth * centerlines_water_mask \n",
    "centerlines_parametric_DEM[centerlines_parametric_DEM==0]=np.nan\n",
    "\n",
    "fig, ax = plt.subplots(1, 1, figsize=(5, 5), dpi=200)\n",
    "ax.imshow(bg_img, extent=bg_img_extent)\n",
    "im = ax.imshow(centerlines_parametric_DEM, extent=extent, cmap='turbo', vmin=maxdepth, vmax=0)\n",
    "plt.colorbar(im, label='Depth (m)')\n",
    "ax.set_title('Artificial channel profiles')\n",
    "\n",
    "plt.savefig(os.path.join(model_visuals_dir, 'artificial_channels.png'))\n",
    "plt.show()"
   ]
  },
  {
   "cell_type": "markdown",
   "id": "375cb949-f00a-4c0e-a05e-99b13f35c884",
   "metadata": {},
   "source": [
    "### 4 - Combine DEMs"
   ]
  },
  {
   "cell_type": "code",
   "execution_count": null,
   "id": "a922022d-2786-45a5-9aac-9800314d1f45",
   "metadata": {},
   "outputs": [],
   "source": [
    "# For each pixel, only keep the min value between DEM and centerlines_parametric_DEM \n",
    "edited_DEM = np.nanmin(np.concatenate([DEM.reshape((DEM.shape[0], DEM.shape[1], 1)), \n",
    "                                       centerlines_parametric_DEM.reshape((centerlines_parametric_DEM.shape[0], centerlines_parametric_DEM.shape[1], 1))], axis=2), axis=2)\n",
    "\n",
    "fig, [ax1, ax2] = plt.subplots(1, 2, figsize=(12, 6), dpi=200)\n",
    "ax1.imshow(bg_img, extent=bg_img_extent)\n",
    "ax1.imshow(DEM, extent=extent, cmap='cmo.topo', vmin=-2, vmax=2)\n",
    "ax1.set_title('Original DEM')\n",
    "ax2.imshow(bg_img, extent=bg_img_extent)\n",
    "ax2.imshow(edited_DEM, extent=extent, cmap='cmo.topo', vmin=-2, vmax=2)\n",
    "ax2.set_title('Edited DEM')\n",
    "\n",
    "plt.savefig(os.path.join(model_visuals_dir, 'original_vs_modified_DEM.png'))\n",
    "plt.show()\n",
    "\n",
    "# Ensure the result remains within domain boundaries\n",
    "edited_DEM[np.isnan(DEM)] = -9999"
   ]
  },
  {
   "cell_type": "markdown",
   "id": "009720cf-f70c-4e70-a609-ccdd5b83ac41",
   "metadata": {},
   "source": [
    "## V - Saving the results"
   ]
  },
  {
   "cell_type": "markdown",
   "id": "db30212e-a57c-46c5-bee2-4e118261e530",
   "metadata": {},
   "source": [
    "Anuga requires the DEM to be provided as an ascii file."
   ]
  },
  {
   "cell_type": "code",
   "execution_count": null,
   "id": "e451efb5-cc9a-4e6a-904a-5399897c2f72",
   "metadata": {},
   "outputs": [],
   "source": [
    "f_edited_DEM_asc = os.path.join(model_inputs_dir, f_DEM_tif.split('/')[-1].replace('.tif', '_edited.asc'))\n",
    "\n",
    "if os.path.exists(f_edited_DEM_asc): # rasterio doesn't like erasing existing ascii files\n",
    "    os.remove(f_edited_DEM_asc)\n",
    "\n",
    "with rio.open(f_edited_DEM_asc, 'w', driver='AAIGrid', \n",
    "              height=centerlines_water_mask_src.height, width=centerlines_water_mask_src.width, count=1, dtype=edited_DEM.dtype, \n",
    "              crs=epsg, transform=centerlines_water_mask_src.transform, compress=\"LZW\", nodata=-9999) as raster_file:\n",
    "    raster_file.write(edited_DEM, 1)\n",
    "    "
   ]
  },
  {
   "cell_type": "markdown",
   "id": "3ac1bab0-02dd-428a-a662-863dafad52a4",
   "metadata": {},
   "source": [
    "Now we can delete intermediary files."
   ]
  },
  {
   "cell_type": "code",
   "execution_count": null,
   "id": "b86ca4d4-c7d0-4c6d-abff-af2c503e5a2f",
   "metadata": {},
   "outputs": [],
   "source": [
    "list_of_files_to_delete = [f_clipper_line_buffered,\n",
    "                           f_DEM_clipped_tif,\n",
    "                           f_centerlines_buffered_shp]\n",
    "if 'google.colab' in sys.modules:\n",
    "    list_of_files_to_delete = [f_clipper_line_buffered,\n",
    "                               f_centerlines_buffered_shp]\n",
    "\n",
    "for file in list_of_files_to_delete:\n",
    "    if os.path.exists(file): \n",
    "        if os.path.isfile(file):\n",
    "            os.remove(file)\n",
    "            if file.endswith('shp'):\n",
    "                try:\n",
    "                    os.remove(file.replace('.shp', '.shx'))\n",
    "                    os.remove(file.replace('.shp', '.dbf'))\n",
    "                    os.remove(file.replace('.shp', '.cpg'))\n",
    "                    os.remove(file.replace('.shp', '.prj'))\n",
    "                except:\n",
    "                    pass\n",
    "        else:\n",
    "            shutil.rmtree(file)"
   ]
  }
 ],
 "metadata": {
  "kernelspec": {
   "display_name": "Python 3 (ipykernel)",
   "language": "python",
   "name": "python3"
  },
  "language_info": {
   "codemirror_mode": {
    "name": "ipython",
    "version": 3
   },
   "file_extension": ".py",
   "mimetype": "text/x-python",
   "name": "python",
   "nbconvert_exporter": "python",
   "pygments_lexer": "ipython3",
   "version": "3.9.19"
  }
 },
 "nbformat": 4,
 "nbformat_minor": 5
}
