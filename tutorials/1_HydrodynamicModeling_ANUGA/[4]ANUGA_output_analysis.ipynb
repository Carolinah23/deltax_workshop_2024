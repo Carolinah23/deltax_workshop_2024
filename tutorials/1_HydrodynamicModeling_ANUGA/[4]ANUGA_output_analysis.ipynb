{
 "cells": [
  {
   "cell_type": "markdown",
   "id": "c35c264e-89ad-4b2d-a2be-2b4189ec7093",
   "metadata": {},
   "source": [
    "[![Open In Colab](https://colab.research.google.com/assets/colab-badge.svg)](https://colab.research.google.com/github/soloyant/deltax_workshop_2024/blob/main/tutorials/1_HydrodynamicModeling_ANUGA/[4]ANUGA_output_analysis.ipynb)\n",
    "# I - Import packages and define the working directories"
   ]
  },
  {
   "cell_type": "code",
   "execution_count": null,
   "id": "d4ad037a-15e9-453b-852c-f25722d40ac5",
   "metadata": {},
   "outputs": [],
   "source": [
    "import sys\n",
    "\n",
    "if 'google.colab' in sys.modules:\n",
    "  # In case the notebook is opened in google collab, here we download/install all the files we need behind the scenes\n",
    "  try:\n",
    "      import os\n",
    "      os.chdir('/content')\n",
    "      # Grab workbook files into colab directory\n",
    "      !git clone https://github.com/soloyant/deltax_workshop_2024.git\n",
    "      # Install everything using some bash scripts\n",
    "      !/bin/bash /content/deltax_workshop_2024/tutorials/1_HydrodynamicModeling_ANUGA/utils/anuga_tools/install_anuga_colab.sh\n",
    "      os.chdir('/content/deltax_workshop_2024/tutorials/1_HydrodynamicModeling_ANUGA/')\n",
    "  except:\n",
    "      pass"
   ]
  },
  {
   "cell_type": "code",
   "execution_count": null,
   "id": "b39f2ebc-174e-481b-8f20-b34f267d9095",
   "metadata": {},
   "outputs": [],
   "source": [
    "import os\n",
    "from pathlib import Path\n",
    "import numpy as np\n",
    "import pandas as pd\n",
    "import netCDF4 as nc\n",
    "import matplotlib.tri as tri\n",
    "import geopandas as gpd\n",
    "import utm\n",
    "\n",
    "from utils import data_processing_tools as dpt\n",
    "from utils import data_visualization_tools as viz\n",
    "from utils.anuga_tools import anuga_tools as at\n",
    "from model_inputs.model_settings import *\n",
    "\n",
    "# Define the path to scripts and data\n",
    "workshop_dir = os.getcwd()\n",
    "# # Alternatively:\n",
    "# workshop_dir = '/path/to/1_HydrodynamicModeling_ANUGA'\n",
    "data_dir = os.path.join(workshop_dir, 'data')\n",
    "if 'google.colab' in sys.modules:\n",
    "    data_dir = os.path.join(data_dir, 'example_data')\n",
    "model_inputs_dir = os.path.join(workshop_dir, 'model_inputs')\n",
    "if 'google.colab' in sys.modules:\n",
    "    model_inputs_dir = os.path.join(model_inputs_dir, 'example_data')\n",
    "model_outputs_dir = os.path.join(workshop_dir, 'model_outputs')\n",
    "model_visuals_dir = os.path.join(workshop_dir, 'visuals')\n",
    "model_validation_dir = os.path.join(workshop_dir, 'validation')\n",
    "\n",
    "for d in [model_inputs_dir, model_outputs_dir, model_visuals_dir, model_validation_dir]:\n",
    "    Path(d).mkdir(parents=True, exist_ok=True)\n",
    "        "
   ]
  },
  {
   "cell_type": "markdown",
   "id": "64d2074e-bb63-4111-a53f-27fb25be4df7",
   "metadata": {},
   "source": [
    "# II - Load the saved model output"
   ]
  },
  {
   "cell_type": "code",
   "execution_count": null,
   "id": "a41e819d-637a-41f9-91ec-3ceed3dd4f16",
   "metadata": {},
   "outputs": [],
   "source": [
    "# First import the domain generated during the DEM processing step\n",
    "f_domain = os.path.join(data_dir, 'dxws_domain.shp')\n",
    "domain_gdf = gpd.read_file(f_domain)\n",
    "domain_polygon = np.asarray(domain_gdf.geometry[0].boundary.xy).T\n",
    "\n",
    "f_anuga_output = os.path.join(model_outputs_dir, f\"{model_name}.sww\")\n",
    "saved_output = nc.Dataset(f_anuga_output)\n",
    "\n",
    "time = saved_output['time'][:].data\n",
    "x = saved_output['x'][:].data+saved_output.xllcorner\n",
    "y = saved_output['y'][:].data+saved_output.yllcorner\n",
    "friction = saved_output['friction'][:]\n",
    "N = time.shape[0]\n",
    "Npt = x.shape[0]\n",
    "\n",
    "triangles = saved_output['volumes'][:,:].data\n",
    "triang = tri.Triangulation(x, y, triangles)\n",
    "\n",
    "print('The loaded model includes '+ str(N)+ ' timesteps and ' + str(Npt) + ' triangles')"
   ]
  },
  {
   "cell_type": "code",
   "execution_count": null,
   "id": "a6c36252-b1eb-44f6-91ef-e1fc3f33a2d9",
   "metadata": {},
   "outputs": [],
   "source": [
    "# Recreate the tide function used for running the model from information saved in the model_setting.py file\n",
    "tide_function = at.GenerateTideGauge(filename = f_tides,\n",
    "                                      t_start = sim_starttime, \n",
    "                                      t_end = sim_endtime, \n",
    "                                      t_step = sim_timestep,\n",
    "                                      offset = -.36,\n",
    "                                      smoothing = False,\n",
    "                                      smoothing_span = .1,\n",
    "                                      hot_start = False,\n",
    "                                      last_frame = 0)\n",
    "\n",
    "# Convert it into a time series\n",
    "t = (sim_time-sim_time[0]).astype('timedelta64[s]').astype(float)\n",
    "tide_ts = [tide_function(i) for i in t]\n"
   ]
  },
  {
   "cell_type": "markdown",
   "id": "70c73d03-43b2-4ced-adaf-e41cafd20a36",
   "metadata": {},
   "source": [
    "# III - Water Level Animation\n",
    "The function below will create an animation showing the spatio-temporal evolution of water elevations. The white \"X\" marks the location of the input tide gauge."
   ]
  },
  {
   "cell_type": "code",
   "execution_count": null,
   "id": "572ae583-4c5c-4540-8517-1e2255e8cc4d",
   "metadata": {},
   "outputs": [],
   "source": [
    "# [OPTIONAL] Path to the background imagery and saved video file.\n",
    "f_bg_img_tif = os.path.join(data_dir, 'misissippi_S2_background_image.tif')\n",
    "f_anim_wl = os.path.join(model_visuals_dir, os.path.split(f_anuga_output)[1]).replace('.sww', '_water_level.mp4')\n",
    "\n",
    "viz.animate_stage(saved_output, domain_polygon, \n",
    "                  gauge_location_ind=tide_gauge_ID[2:], \n",
    "                  gauge_time=sim_time, \n",
    "                  gauge_stage=tide_ts, \n",
    "                  bg_img_filepath=None, # Using a background significantly increases the processing time\n",
    "                  fps = 20, \n",
    "                  initial_frame = 0, \n",
    "                  final_frame = N, \n",
    "                  framestep = 1, \n",
    "                  dpi=100, \n",
    "                  save=False, \n",
    "                  filename=f_anim_wl)"
   ]
  },
  {
   "cell_type": "markdown",
   "id": "14b60d3a-1951-4edd-86fd-4b83f7ec327c",
   "metadata": {},
   "source": [
    "# IV - Velocity animation\n",
    "We will now create an animation of the velocity with arrows showing the current direction. Displaying an arrow in every cell would make the figure overly busy. Instead, we will only plot arrows at the location of centerlines."
   ]
  },
  {
   "cell_type": "code",
   "execution_count": null,
   "id": "4fdff0b0-20f1-4837-8244-ef0631f20cfa",
   "metadata": {},
   "outputs": [],
   "source": [
    "%%capture --no-display\n",
    "\n",
    "# Define file paths\n",
    "f_centerlines_shp = os.path.join(data_dir, 'mississippi_River_Centerlines_V1/mississippi_River_Centerlines_V1.shp')\n",
    "f_centerlines_buffered_shp = f_centerlines_shp.replace('.shp', '_buffered.shp')\n",
    "f_centerlines_buffered_tif = f_centerlines_buffered_shp.replace('.shp', '.tif')\n",
    "\n",
    "# Read and format centerline dataset\n",
    "centerlines_gdf = gpd.read_file(f_centerlines_shp).to_crs(epsg=32615)\n",
    "\n",
    "# Resample the centerlines using a regular footstep\n",
    "centerlines_gdf = dpt.resample_gdf(centerlines_gdf, d=1000)\n",
    "\n",
    "# Remove all centerlines located out of our model domain\n",
    "centerlines_gdf = centerlines_gdf.overlay(domain_gdf)\n",
    "\n",
    "# Create a trifinder object to find the triangle index\n",
    "trifinder = triang.get_trifinder()\n",
    "\n",
    "# Find the triangle index that contains the point\n",
    "centerlines_gdf['triangle_index'] = trifinder(centerlines_gdf.centroid.x.to_numpy(), centerlines_gdf.centroid.y.to_numpy())\n",
    "\n",
    "# Remove all points thate are not located within a triangle (i.e., labeled -1)\n",
    "centerlines_gdf = centerlines_gdf.where(centerlines_gdf['triangle_index']!=-1).dropna().reset_index(drop=True)\n",
    "\n",
    "# Create a list of unique querry points where to evaluate water velocity and display an arrow\n",
    "querry_tri_inds = centerlines_gdf.triangle_index.unique()\n",
    "querry_xy_inds = triang.triangles[querry_tri_inds,:]"
   ]
  },
  {
   "cell_type": "markdown",
   "id": "72466330-6660-41fd-9497-9bf7f484cc7c",
   "metadata": {},
   "source": [
    "Now that we identified for which triangles an arrow should be displayed, we can run the animate function."
   ]
  },
  {
   "cell_type": "code",
   "execution_count": null,
   "id": "9791bf4c-4330-44e8-a257-70acf29adef4",
   "metadata": {},
   "outputs": [],
   "source": [
    "%%capture --no-display\n",
    "\n",
    "# [OPTIONAL] Path to the background imagery and saved video file.\n",
    "f_bg_img_tif = os.path.join(data_dir, 'misissippi_S2_background_image.tif')\n",
    "f_anim_velo = os.path.join(model_visuals_dir, os.path.split(f_anuga_output)[1]).replace('.sww', '_water_velocity.mp4')\n",
    "\n",
    "viz.animate_velocity(saved_output, domain_polygon, \n",
    "                     vcolormin=0,\n",
    "                     vcolormax=1,\n",
    "                     colormap='turbo',\n",
    "                     gauge_location_ind=tide_gauge_ID[2:], \n",
    "                     querry_xy_inds=querry_xy_inds,\n",
    "                     gauge_time=sim_time, \n",
    "                     gauge_stage=tide_ts, \n",
    "                     bg_img_filepath=None,  # Using a background significantly increases the processing time\n",
    "                     fps = 20, \n",
    "                     initial_frame = 0, \n",
    "                     final_frame = N, \n",
    "                     framestep = 1, \n",
    "                     dpi=100, \n",
    "                     save=False, \n",
    "                     filename=f_anim_velo)"
   ]
  }
 ],
 "metadata": {
  "kernelspec": {
   "display_name": "Python 3 (ipykernel)",
   "language": "python",
   "name": "python3"
  },
  "language_info": {
   "codemirror_mode": {
    "name": "ipython",
    "version": 3
   },
   "file_extension": ".py",
   "mimetype": "text/x-python",
   "name": "python",
   "nbconvert_exporter": "python",
   "pygments_lexer": "ipython3",
   "version": "3.9.19"
  }
 },
 "nbformat": 4,
 "nbformat_minor": 5
}
