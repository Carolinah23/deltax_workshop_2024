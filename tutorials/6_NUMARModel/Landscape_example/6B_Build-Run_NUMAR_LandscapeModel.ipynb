{
  "cells": [
    {
      "cell_type": "markdown",
      "id": "8bfb3bc9",
      "metadata": {
        "id": "8bfb3bc9"
      },
      "source": [
        "# Running the NUMAR model\n",
        "\n",
        "\n",
        "\n",
        "Original paper: Chen, Ronghua & Twilley, Robert. (1999). A Simulation Model of Organic Matter and Nutrient Accumulation in Mangrove Wetland Soils. Biogeochemistry. 44. 93-118. 10.1007/BF00993000. https://www.researchgate.net/publication/226714484_A_Simulation_Model_of_Organic_Matter_and_Nutrient_Accumulation_in_Mangrove_Wetland_Soils\n",
        "- Python Conversion: Tom Kaiser\n",
        "- Python Wrapper and Notebook: Alex Christensen\n",
        "- Model Updates For Marsh: Andy Cassaway and Pradipta Biswas\n",
        "\n",
        "\n"
      ]
    },
    {
      "cell_type": "markdown",
      "id": "81500ec6",
      "metadata": {
        "id": "81500ec6"
      },
      "source": [
        "# 1a. Import Python Packages"
      ]
    },
    {
      "cell_type": "markdown",
      "source": [
        "Uncomment the following cell if running in Google Colab"
      ],
      "metadata": {
        "id": "PRi4hTBDj6Yc"
      },
      "id": "PRi4hTBDj6Yc"
    },
    {
      "cell_type": "code",
      "execution_count": 1,
      "id": "UXhlYh0J5Ich",
      "metadata": {
        "colab": {
          "base_uri": "https://localhost:8080/"
        },
        "id": "UXhlYh0J5Ich",
        "outputId": "ede76198-cb4d-47aa-8a4c-37a12f5c2636"
      },
      "outputs": [
        {
          "output_type": "stream",
          "name": "stdout",
          "text": [
            "Collecting rasterio\n",
            "  Downloading rasterio-1.3.10-cp310-cp310-manylinux2014_x86_64.whl (21.5 MB)\n",
            "\u001b[2K     \u001b[90m━━━━━━━━━━━━━━━━━━━━━━━━━━━━━━━━━━━━━━━━\u001b[0m \u001b[32m21.5/21.5 MB\u001b[0m \u001b[31m24.2 MB/s\u001b[0m eta \u001b[36m0:00:00\u001b[0m\n",
            "\u001b[?25hCollecting affine (from rasterio)\n",
            "  Downloading affine-2.4.0-py3-none-any.whl (15 kB)\n",
            "Requirement already satisfied: attrs in /usr/local/lib/python3.10/dist-packages (from rasterio) (23.2.0)\n",
            "Requirement already satisfied: certifi in /usr/local/lib/python3.10/dist-packages (from rasterio) (2024.2.2)\n",
            "Requirement already satisfied: click>=4.0 in /usr/local/lib/python3.10/dist-packages (from rasterio) (8.1.7)\n",
            "Requirement already satisfied: cligj>=0.5 in /usr/local/lib/python3.10/dist-packages (from rasterio) (0.7.2)\n",
            "Requirement already satisfied: numpy in /usr/local/lib/python3.10/dist-packages (from rasterio) (1.25.2)\n",
            "Collecting snuggs>=1.4.1 (from rasterio)\n",
            "  Downloading snuggs-1.4.7-py3-none-any.whl (5.4 kB)\n",
            "Requirement already satisfied: click-plugins in /usr/local/lib/python3.10/dist-packages (from rasterio) (1.1.1)\n",
            "Requirement already satisfied: setuptools in /usr/local/lib/python3.10/dist-packages (from rasterio) (67.7.2)\n",
            "Requirement already satisfied: pyparsing>=2.1.6 in /usr/local/lib/python3.10/dist-packages (from snuggs>=1.4.1->rasterio) (3.1.2)\n",
            "Installing collected packages: snuggs, affine, rasterio\n",
            "Successfully installed affine-2.4.0 rasterio-1.3.10 snuggs-1.4.7\n",
            "Collecting earthaccess\n",
            "  Downloading earthaccess-0.9.0-py3-none-any.whl (57 kB)\n",
            "\u001b[2K     \u001b[90m━━━━━━━━━━━━━━━━━━━━━━━━━━━━━━━━━━━━━━━━\u001b[0m \u001b[32m57.1/57.1 kB\u001b[0m \u001b[31m1.7 MB/s\u001b[0m eta \u001b[36m0:00:00\u001b[0m\n",
            "\u001b[?25hRequirement already satisfied: fsspec>=2022.11 in /usr/local/lib/python3.10/dist-packages (from earthaccess) (2023.6.0)\n",
            "Collecting multimethod>=1.8 (from earthaccess)\n",
            "  Downloading multimethod-1.11.2-py3-none-any.whl (10 kB)\n",
            "Collecting pqdm>=0.1 (from earthaccess)\n",
            "  Downloading pqdm-0.2.0-py2.py3-none-any.whl (6.8 kB)\n",
            "Collecting python-cmr>=0.9.0 (from earthaccess)\n",
            "  Downloading python_cmr-0.10.0-py3-none-any.whl (12 kB)\n",
            "Requirement already satisfied: python-dateutil>=2.8.2 in /usr/local/lib/python3.10/dist-packages (from earthaccess) (2.8.2)\n",
            "Requirement already satisfied: requests>=2.26 in /usr/local/lib/python3.10/dist-packages (from earthaccess) (2.31.0)\n",
            "Collecting s3fs>=2022.11 (from earthaccess)\n",
            "  Downloading s3fs-2024.3.1-py3-none-any.whl (29 kB)\n",
            "Collecting tinynetrc<2.0.0,>=1.3.1 (from earthaccess)\n",
            "  Downloading tinynetrc-1.3.1-py2.py3-none-any.whl (3.9 kB)\n",
            "Collecting bounded-pool-executor (from pqdm>=0.1->earthaccess)\n",
            "  Downloading bounded_pool_executor-0.0.3-py3-none-any.whl (3.4 kB)\n",
            "Requirement already satisfied: tqdm in /usr/local/lib/python3.10/dist-packages (from pqdm>=0.1->earthaccess) (4.66.2)\n",
            "Requirement already satisfied: typing-extensions in /usr/local/lib/python3.10/dist-packages (from pqdm>=0.1->earthaccess) (4.11.0)\n",
            "Requirement already satisfied: six>=1.5 in /usr/local/lib/python3.10/dist-packages (from python-dateutil>=2.8.2->earthaccess) (1.16.0)\n",
            "Requirement already satisfied: charset-normalizer<4,>=2 in /usr/local/lib/python3.10/dist-packages (from requests>=2.26->earthaccess) (3.3.2)\n",
            "Requirement already satisfied: idna<4,>=2.5 in /usr/local/lib/python3.10/dist-packages (from requests>=2.26->earthaccess) (3.7)\n",
            "Requirement already satisfied: urllib3<3,>=1.21.1 in /usr/local/lib/python3.10/dist-packages (from requests>=2.26->earthaccess) (2.0.7)\n",
            "Requirement already satisfied: certifi>=2017.4.17 in /usr/local/lib/python3.10/dist-packages (from requests>=2.26->earthaccess) (2024.2.2)\n",
            "Collecting aiobotocore<3.0.0,>=2.5.4 (from s3fs>=2022.11->earthaccess)\n",
            "  Downloading aiobotocore-2.12.3-py3-none-any.whl (76 kB)\n",
            "\u001b[2K     \u001b[90m━━━━━━━━━━━━━━━━━━━━━━━━━━━━━━━━━━━━━━━━\u001b[0m \u001b[32m76.5/76.5 kB\u001b[0m \u001b[31m5.0 MB/s\u001b[0m eta \u001b[36m0:00:00\u001b[0m\n",
            "\u001b[?25hCollecting fsspec>=2022.11 (from earthaccess)\n",
            "  Downloading fsspec-2024.3.1-py3-none-any.whl (171 kB)\n",
            "\u001b[2K     \u001b[90m━━━━━━━━━━━━━━━━━━━━━━━━━━━━━━━━━━━━━━━━\u001b[0m \u001b[32m172.0/172.0 kB\u001b[0m \u001b[31m11.9 MB/s\u001b[0m eta \u001b[36m0:00:00\u001b[0m\n",
            "\u001b[?25hRequirement already satisfied: aiohttp!=4.0.0a0,!=4.0.0a1 in /usr/local/lib/python3.10/dist-packages (from s3fs>=2022.11->earthaccess) (3.9.5)\n",
            "Collecting botocore<1.34.70,>=1.34.41 (from aiobotocore<3.0.0,>=2.5.4->s3fs>=2022.11->earthaccess)\n",
            "  Downloading botocore-1.34.69-py3-none-any.whl (12.0 MB)\n",
            "\u001b[2K     \u001b[90m━━━━━━━━━━━━━━━━━━━━━━━━━━━━━━━━━━━━━━━━\u001b[0m \u001b[32m12.0/12.0 MB\u001b[0m \u001b[31m18.5 MB/s\u001b[0m eta \u001b[36m0:00:00\u001b[0m\n",
            "\u001b[?25hRequirement already satisfied: wrapt<2.0.0,>=1.10.10 in /usr/local/lib/python3.10/dist-packages (from aiobotocore<3.0.0,>=2.5.4->s3fs>=2022.11->earthaccess) (1.14.1)\n",
            "Collecting aioitertools<1.0.0,>=0.5.1 (from aiobotocore<3.0.0,>=2.5.4->s3fs>=2022.11->earthaccess)\n",
            "  Downloading aioitertools-0.11.0-py3-none-any.whl (23 kB)\n",
            "Requirement already satisfied: aiosignal>=1.1.2 in /usr/local/lib/python3.10/dist-packages (from aiohttp!=4.0.0a0,!=4.0.0a1->s3fs>=2022.11->earthaccess) (1.3.1)\n",
            "Requirement already satisfied: attrs>=17.3.0 in /usr/local/lib/python3.10/dist-packages (from aiohttp!=4.0.0a0,!=4.0.0a1->s3fs>=2022.11->earthaccess) (23.2.0)\n",
            "Requirement already satisfied: frozenlist>=1.1.1 in /usr/local/lib/python3.10/dist-packages (from aiohttp!=4.0.0a0,!=4.0.0a1->s3fs>=2022.11->earthaccess) (1.4.1)\n",
            "Requirement already satisfied: multidict<7.0,>=4.5 in /usr/local/lib/python3.10/dist-packages (from aiohttp!=4.0.0a0,!=4.0.0a1->s3fs>=2022.11->earthaccess) (6.0.5)\n",
            "Requirement already satisfied: yarl<2.0,>=1.0 in /usr/local/lib/python3.10/dist-packages (from aiohttp!=4.0.0a0,!=4.0.0a1->s3fs>=2022.11->earthaccess) (1.9.4)\n",
            "Requirement already satisfied: async-timeout<5.0,>=4.0 in /usr/local/lib/python3.10/dist-packages (from aiohttp!=4.0.0a0,!=4.0.0a1->s3fs>=2022.11->earthaccess) (4.0.3)\n",
            "Collecting jmespath<2.0.0,>=0.7.1 (from botocore<1.34.70,>=1.34.41->aiobotocore<3.0.0,>=2.5.4->s3fs>=2022.11->earthaccess)\n",
            "  Downloading jmespath-1.0.1-py3-none-any.whl (20 kB)\n",
            "Installing collected packages: tinynetrc, bounded-pool-executor, pqdm, multimethod, jmespath, fsspec, aioitertools, python-cmr, botocore, aiobotocore, s3fs, earthaccess\n",
            "  Attempting uninstall: fsspec\n",
            "    Found existing installation: fsspec 2023.6.0\n",
            "    Uninstalling fsspec-2023.6.0:\n",
            "      Successfully uninstalled fsspec-2023.6.0\n",
            "\u001b[31mERROR: pip's dependency resolver does not currently take into account all the packages that are installed. This behaviour is the source of the following dependency conflicts.\n",
            "torch 2.2.1+cu121 requires nvidia-cublas-cu12==12.1.3.1; platform_system == \"Linux\" and platform_machine == \"x86_64\", which is not installed.\n",
            "torch 2.2.1+cu121 requires nvidia-cuda-cupti-cu12==12.1.105; platform_system == \"Linux\" and platform_machine == \"x86_64\", which is not installed.\n",
            "torch 2.2.1+cu121 requires nvidia-cuda-nvrtc-cu12==12.1.105; platform_system == \"Linux\" and platform_machine == \"x86_64\", which is not installed.\n",
            "torch 2.2.1+cu121 requires nvidia-cuda-runtime-cu12==12.1.105; platform_system == \"Linux\" and platform_machine == \"x86_64\", which is not installed.\n",
            "torch 2.2.1+cu121 requires nvidia-cudnn-cu12==8.9.2.26; platform_system == \"Linux\" and platform_machine == \"x86_64\", which is not installed.\n",
            "torch 2.2.1+cu121 requires nvidia-cufft-cu12==11.0.2.54; platform_system == \"Linux\" and platform_machine == \"x86_64\", which is not installed.\n",
            "torch 2.2.1+cu121 requires nvidia-curand-cu12==10.3.2.106; platform_system == \"Linux\" and platform_machine == \"x86_64\", which is not installed.\n",
            "torch 2.2.1+cu121 requires nvidia-cusolver-cu12==11.4.5.107; platform_system == \"Linux\" and platform_machine == \"x86_64\", which is not installed.\n",
            "torch 2.2.1+cu121 requires nvidia-cusparse-cu12==12.1.0.106; platform_system == \"Linux\" and platform_machine == \"x86_64\", which is not installed.\n",
            "torch 2.2.1+cu121 requires nvidia-nccl-cu12==2.19.3; platform_system == \"Linux\" and platform_machine == \"x86_64\", which is not installed.\n",
            "torch 2.2.1+cu121 requires nvidia-nvtx-cu12==12.1.105; platform_system == \"Linux\" and platform_machine == \"x86_64\", which is not installed.\n",
            "gcsfs 2023.6.0 requires fsspec==2023.6.0, but you have fsspec 2024.3.1 which is incompatible.\u001b[0m\u001b[31m\n",
            "\u001b[0mSuccessfully installed aiobotocore-2.12.3 aioitertools-0.11.0 botocore-1.34.69 bounded-pool-executor-0.0.3 earthaccess-0.9.0 fsspec-2024.3.1 jmespath-1.0.1 multimethod-1.11.2 pqdm-0.2.0 python-cmr-0.10.0 s3fs-2024.3.1 tinynetrc-1.3.1\n",
            "Collecting cartopy\n",
            "  Downloading Cartopy-0.23.0-cp310-cp310-manylinux_2_17_x86_64.manylinux2014_x86_64.whl (11.6 MB)\n",
            "\u001b[2K     \u001b[90m━━━━━━━━━━━━━━━━━━━━━━━━━━━━━━━━━━━━━━━━\u001b[0m \u001b[32m11.6/11.6 MB\u001b[0m \u001b[31m25.7 MB/s\u001b[0m eta \u001b[36m0:00:00\u001b[0m\n",
            "\u001b[?25hRequirement already satisfied: numpy>=1.21 in /usr/local/lib/python3.10/dist-packages (from cartopy) (1.25.2)\n",
            "Requirement already satisfied: matplotlib>=3.5 in /usr/local/lib/python3.10/dist-packages (from cartopy) (3.7.1)\n",
            "Requirement already satisfied: shapely>=1.7 in /usr/local/lib/python3.10/dist-packages (from cartopy) (2.0.4)\n",
            "Requirement already satisfied: packaging>=20 in /usr/local/lib/python3.10/dist-packages (from cartopy) (24.0)\n",
            "Requirement already satisfied: pyshp>=2.3 in /usr/local/lib/python3.10/dist-packages (from cartopy) (2.3.1)\n",
            "Requirement already satisfied: pyproj>=3.3.1 in /usr/local/lib/python3.10/dist-packages (from cartopy) (3.6.1)\n",
            "Requirement already satisfied: contourpy>=1.0.1 in /usr/local/lib/python3.10/dist-packages (from matplotlib>=3.5->cartopy) (1.2.1)\n",
            "Requirement already satisfied: cycler>=0.10 in /usr/local/lib/python3.10/dist-packages (from matplotlib>=3.5->cartopy) (0.12.1)\n",
            "Requirement already satisfied: fonttools>=4.22.0 in /usr/local/lib/python3.10/dist-packages (from matplotlib>=3.5->cartopy) (4.51.0)\n",
            "Requirement already satisfied: kiwisolver>=1.0.1 in /usr/local/lib/python3.10/dist-packages (from matplotlib>=3.5->cartopy) (1.4.5)\n",
            "Requirement already satisfied: pillow>=6.2.0 in /usr/local/lib/python3.10/dist-packages (from matplotlib>=3.5->cartopy) (9.4.0)\n",
            "Requirement already satisfied: pyparsing>=2.3.1 in /usr/local/lib/python3.10/dist-packages (from matplotlib>=3.5->cartopy) (3.1.2)\n",
            "Requirement already satisfied: python-dateutil>=2.7 in /usr/local/lib/python3.10/dist-packages (from matplotlib>=3.5->cartopy) (2.8.2)\n",
            "Requirement already satisfied: certifi in /usr/local/lib/python3.10/dist-packages (from pyproj>=3.3.1->cartopy) (2024.2.2)\n",
            "Requirement already satisfied: six>=1.5 in /usr/local/lib/python3.10/dist-packages (from python-dateutil>=2.7->matplotlib>=3.5->cartopy) (1.16.0)\n",
            "Installing collected packages: cartopy\n",
            "Successfully installed cartopy-0.23.0\n",
            "Reading package lists... Done\n",
            "Building dependency tree... Done\n",
            "Reading state information... Done\n",
            "The following additional packages will be installed:\n",
            "  python3-gdal python3-numpy\n",
            "Suggested packages:\n",
            "  libgdal-grass python-numpy-doc python3-pytest\n",
            "The following NEW packages will be installed:\n",
            "  gdal-bin python3-gdal python3-numpy\n",
            "0 upgraded, 3 newly installed, 0 to remove and 45 not upgraded.\n",
            "Need to get 5,055 kB of archives.\n",
            "After this operation, 25.1 MB of additional disk space will be used.\n",
            "Get:1 http://archive.ubuntu.com/ubuntu jammy-updates/main amd64 python3-numpy amd64 1:1.21.5-1ubuntu22.04.1 [3,467 kB]\n",
            "Get:2 https://ppa.launchpadcontent.net/ubuntugis/ppa/ubuntu jammy/main amd64 python3-gdal amd64 3.6.4+dfsg-1~jammy0 [1,027 kB]\n",
            "Get:3 https://ppa.launchpadcontent.net/ubuntugis/ppa/ubuntu jammy/main amd64 gdal-bin amd64 3.6.4+dfsg-1~jammy0 [561 kB]\n",
            "Fetched 5,055 kB in 3s (1,927 kB/s)\n",
            "Selecting previously unselected package python3-numpy.\n",
            "(Reading database ... 121752 files and directories currently installed.)\n",
            "Preparing to unpack .../python3-numpy_1%3a1.21.5-1ubuntu22.04.1_amd64.deb ...\n",
            "Unpacking python3-numpy (1:1.21.5-1ubuntu22.04.1) ...\n",
            "Selecting previously unselected package python3-gdal.\n",
            "Preparing to unpack .../python3-gdal_3.6.4+dfsg-1~jammy0_amd64.deb ...\n",
            "Unpacking python3-gdal (3.6.4+dfsg-1~jammy0) ...\n",
            "Selecting previously unselected package gdal-bin.\n",
            "Preparing to unpack .../gdal-bin_3.6.4+dfsg-1~jammy0_amd64.deb ...\n",
            "Unpacking gdal-bin (3.6.4+dfsg-1~jammy0) ...\n",
            "Setting up python3-numpy (1:1.21.5-1ubuntu22.04.1) ...\n",
            "Setting up python3-gdal (3.6.4+dfsg-1~jammy0) ...\n",
            "Setting up gdal-bin (3.6.4+dfsg-1~jammy0) ...\n",
            "Processing triggers for man-db (2.10.2-1) ...\n"
          ]
        }
      ],
      "source": [
        "## if running in Google Colab, uncomment the lines below\n",
        "\n",
        "!pip install rasterio\n",
        "!pip install earthaccess\n",
        "!pip install cartopy\n",
        "\n",
        "!apt install gdal-bin\n",
        "# !gdalinfo --version"
      ]
    },
    {
      "cell_type": "code",
      "execution_count": 2,
      "id": "fabe5f8b",
      "metadata": {
        "colab": {
          "base_uri": "https://localhost:8080/"
        },
        "id": "fabe5f8b",
        "outputId": "10271000-d423-4566-e6c6-364203d67094"
      },
      "outputs": [
        {
          "name": "stdout",
          "output_type": "stream",
          "text": [
            "Enter your Earthdata Login username: achri\n",
            "Enter your Earthdata password: ··········\n"
          ]
        },
        {
          "output_type": "execute_result",
          "data": {
            "text/plain": [
              "<earthaccess.auth.Auth at 0x7c45f9773c40>"
            ]
          },
          "metadata": {},
          "execution_count": 2
        }
      ],
      "source": [
        "import sys\n",
        "import os\n",
        "from pathlib import Path\n",
        "import rasterio\n",
        "import matplotlib.pyplot as plt\n",
        "from  matplotlib.colors import ListedColormap, BoundaryNorm\n",
        "from  matplotlib.cm import ScalarMappable\n",
        "import math\n",
        "import pandas as pd\n",
        "import earthaccess\n",
        "import cartopy.crs as ccrs\n",
        "import imageio\n",
        "from osgeo import gdal, ogr\n",
        "import numpy as np\n",
        "\n",
        "earthaccess.login()\n",
        "\n"
      ]
    },
    {
      "cell_type": "markdown",
      "id": "f1da7f1f",
      "metadata": {
        "id": "f1da7f1f"
      },
      "source": [
        "# 1b. Set working directories"
      ]
    },
    {
      "cell_type": "markdown",
      "source": [
        "Uncomment the following cell if you are running in Google Colab"
      ],
      "metadata": {
        "id": "5Io048L9j09O"
      },
      "id": "5Io048L9j09O"
    },
    {
      "cell_type": "code",
      "execution_count": 3,
      "id": "XMVYpPDx5zs3",
      "metadata": {
        "colab": {
          "base_uri": "https://localhost:8080/"
        },
        "id": "XMVYpPDx5zs3",
        "outputId": "719dca05-9672-4f17-c7a5-ae68f190d90f"
      },
      "outputs": [
        {
          "output_type": "stream",
          "name": "stdout",
          "text": [
            "Cloning into 'deltax_workshop_2024'...\n",
            "remote: Enumerating objects: 222, done.\u001b[K\n",
            "remote: Counting objects: 100% (222/222), done.\u001b[K\n",
            "remote: Compressing objects: 100% (168/168), done.\u001b[K\n",
            "remote: Total 222 (delta 71), reused 154 (delta 40), pack-reused 0\u001b[K\n",
            "Receiving objects: 100% (222/222), 30.21 MiB | 25.40 MiB/s, done.\n",
            "Resolving deltas: 100% (71/71), done.\n",
            "/content/deltax_workshop_2024/tutorials/6_NUMARModel/Landscape_example\n"
          ]
        }
      ],
      "source": [
        "if os.path.isdir('/content/deltax_workshop_2024'):\n",
        "  !rm -r /content/deltax_workshop_2024\n",
        "! git clone https://github.com/achri19/deltax_workshop_2024.git\n",
        "\n",
        "%cd /content/deltax_workshop_2024/tutorials/6_NUMARModel/Landscape_example\n",
        "sys.path.append('/content/deltax_workshop_2024/tutorials/6_NUMARModel/src')\n"
      ]
    },
    {
      "cell_type": "code",
      "execution_count": 4,
      "id": "2ef4f4e8",
      "metadata": {
        "id": "2ef4f4e8"
      },
      "outputs": [],
      "source": [
        "example_dir = Path(os.getcwd())\n",
        "repo_dir = example_dir.parent.absolute()\n",
        "script_dir = repo_dir / 'src'\n",
        "working_dir = repo_dir / 'data'\n",
        "tmp_dir = example_dir / 'TMP'\n",
        "Path(tmp_dir).mkdir(parents=True, exist_ok=True)\n",
        "sys.path.insert(1,str(script_dir))\n"
      ]
    },
    {
      "cell_type": "markdown",
      "id": "b723e347",
      "metadata": {
        "id": "b723e347"
      },
      "source": [
        "# 1c. Import NUMAR model"
      ]
    },
    {
      "cell_type": "code",
      "execution_count": 5,
      "id": "9c5f9228",
      "metadata": {
        "id": "9c5f9228"
      },
      "outputs": [],
      "source": [
        "from landscape import run_numar\n",
        "from input_files import *"
      ]
    },
    {
      "cell_type": "code",
      "execution_count": 6,
      "id": "26067e3f-a9b3-4c7b-868e-789e021b5c0c",
      "metadata": {
        "colab": {
          "base_uri": "https://localhost:8080/"
        },
        "id": "26067e3f-a9b3-4c7b-868e-789e021b5c0c",
        "outputId": "dbe4dda8-7a47-420e-c920-28a999f85553"
      },
      "outputs": [
        {
          "output_type": "stream",
          "name": "stdout",
          "text": [
            "UTM Zone: 15n EPSG: 32215\n"
          ]
        },
        {
          "output_type": "execute_result",
          "data": {
            "text/plain": [
              "0"
            ]
          },
          "metadata": {},
          "execution_count": 6
        }
      ],
      "source": [
        "Path(tmp_dir).mkdir(parents=True, exist_ok=True)\n",
        "ref_file = example_dir / 'aoi_4326.shp'\n",
        "res = 100\n",
        "AOI = gpd.read_file(ref_file)\n",
        "bounds_4326 =  AOI.total_bounds\n",
        "\n",
        "x1,y1,x2,y2 = math.floor(bounds_4326[0]),math.floor(bounds_4326[3]),math.floor(bounds_4326[2]),math.floor(bounds_4326[1])\n",
        "\n",
        "zone = int(np.ceil((bounds_4326[0] + 180)/6))\n",
        "\n",
        "if y1>=0 and y2>=0:\n",
        "    NS = 'n'\n",
        "    EPSG = 32200+zone\n",
        "elif y1>=0 and y2<0:\n",
        "    NS = 'n'\n",
        "    NS2 = 's'\n",
        "    EPSG = 32200+zone\n",
        "else:\n",
        "    NS = 's'\n",
        "    y = abs(y1)\n",
        "    EPSG = 32700+zone\n",
        "if x1>=0:\n",
        "    EW = 'e'\n",
        "elif x1<0 and x2>=0:\n",
        "    EW = 'e'\n",
        "    EW2 = 'w'\n",
        "else:\n",
        "    EW = 'w'\n",
        "    x = abs(x1)\n",
        "print('UTM Zone: %s%s EPSG: %s' %(zone,NS,EPSG))\n",
        "\n",
        "AOI_utm = AOI.to_crs(EPSG)\n",
        "AOI_utm.to_file(tmp_dir / ('aoi_%s.shp' %(EPSG)))\n",
        "os.system(\"gdal_rasterize -burn 0 -tr %s %s %s %s\" %(res,res,tmp_dir/('aoi_%s.shp'%(EPSG)),tmp_dir / ('aoi_%s.tif'%(EPSG))))\n",
        "\n"
      ]
    },
    {
      "cell_type": "code",
      "execution_count": 7,
      "id": "8a079b19-d2a2-4f1c-b505-7ee4d1e5d8c1",
      "metadata": {
        "id": "8a079b19-d2a2-4f1c-b505-7ee4d1e5d8c1"
      },
      "outputs": [],
      "source": [
        "ref_file = tmp_dir / ('aoi_%s.tif' %(EPSG))\n",
        "AOI = rasterio.open(ref_file)\n",
        "\n",
        "profile = AOI.profile\n"
      ]
    },
    {
      "cell_type": "markdown",
      "id": "9159190c",
      "metadata": {
        "id": "9159190c"
      },
      "source": [
        "## Get Input Rasters\n",
        "\n",
        "### You need to download the following files:\n",
        "- ### Delta-X AVIRIS-NG Aboveground Biomass (spring and Fall)\n",
        "    - ### https://daac.ornl.gov/cgi-bin/dsviewer.pl?ds_id=2138\n",
        "- ### ESA WorldCover 2021 Landcover Maps\n",
        "    - ### https://worldcover2021.esa.int/downloader\n",
        "- ### CPRA Vegetation\n",
        "    - ### https://cims.coastal.la.gov/Viewer/GISDownload.aspx\n",
        "    - ### direct download = https://cims.coastal.louisiana.gov/Viewer/metadata/zips/vegtype2021.zip\n",
        "- ### Delta-X Delft3D Annual inorganic mass accumulation rate (IMAR): annual rates of mineral mass deposited on wetlands, estimated from analysis of storm frequency and deposition.:\n",
        "    - ### https://daac.ornl.gov/cgi-bin/dsviewer.pl?ds_id=2302"
      ]
    },
    {
      "cell_type": "code",
      "execution_count": 8,
      "id": "aab3e4a5",
      "metadata": {
        "colab": {
          "base_uri": "https://localhost:8080/"
        },
        "id": "aab3e4a5",
        "outputId": "767527ca-a809-478e-a742-751e613e488b"
      },
      "outputs": [
        {
          "output_type": "stream",
          "name": "stdout",
          "text": [
            "\n",
            "##### ABOVEGROUND BIOMASS\n",
            "\n",
            "\n",
            "\n",
            "##### ESA WorldCover landcover type\n",
            "\n",
            "\n",
            "\n",
            "##### CPRA Vegetation Type (with Salinity Zones)\n",
            "\n",
            "\n",
            "##### Modified Hydrologic Basins\n",
            "\n",
            "\n",
            "##### Delft3D Inorganice Mass Accumulation Rate (IMAR)\n",
            "\n",
            "\n",
            "##### Delta-X Watermask\n"
          ]
        }
      ],
      "source": [
        "AGB, SALINITY, LANDCOVER, IMAR, BASINS, CLASSES, mask, lats,lons = get_input_files(AOI,example_dir,working_dir,tmp_dir,EPSG,bounds_4326)\n"
      ]
    },
    {
      "cell_type": "markdown",
      "id": "AihGzp-_WJAu",
      "metadata": {
        "id": "AihGzp-_WJAu"
      },
      "source": [
        "## Get Input Parameters\n",
        "\n",
        "### From Delft3D Model IMAR output:\n",
        "- si = inorganic matter deposition rate on the soil surface (g/cm2/yr)\n",
        "- oms = organic matter deposition rate on the soil surfcae (g/cm2/yr)\n",
        "\n",
        "### From AVIRIS-NG Biomass data products:\n",
        "- r0 = root biomass at the surface (g/cm2)\n",
        "\n",
        "### Based on landcover type:\n",
        "- b0 = self-packing density of organic matter (g/cm3)\n",
        "- bi = self-packing density of inorganic matter (g/cm3)\n",
        "- c0 = lignin content in the surface deposit (g/g)\n",
        "- c1 = ash content in the root biomass (g/g)\n",
        "- c2 = cellulose content in the surface deposit (g/g)\n",
        "- c4 = cellulose content in the root biomass(g/g)\n",
        "- fc1 = lignin content in the root biomass\n",
        "- kb = belowground decomposition rate of labile organic matter (1/yr)\n",
        "- kc = cellulos decomposition rate (1/yr)\n",
        "- kl = lignin decomposition rate (1/yr)\n",
        "- kr = root turnover rate (1/yr)\n",
        "- e = root attenuation rate"
      ]
    },
    {
      "cell_type": "code",
      "execution_count": null,
      "id": "2e5a9503",
      "metadata": {
        "id": "2e5a9503"
      },
      "outputs": [],
      "source": [
        "fig, [[ax1,ax2],[ax3,ax4]] = plt.subplots(2,2,figsize = (20,10))\n",
        "\n",
        "im1 = ax1.imshow(AGB*mask,vmin=0,vmax=15,interpolation='nearest')\n",
        "ax1.set_title('AVIRIS-NG Biomass (Mg/Ha)')\n",
        "fig.colorbar(im1,ax = ax1)\n",
        "\n",
        "\n",
        "colors = ['#00a000','#966400','#ffb400','#ffff64','#c31400','#fff5d7','#ffffff','#0046c8','#00dc82','#009678','#ffebaf']\n",
        "values = [10,20,30,40,50,60,70,80,90,95,100]\n",
        "labels = [\"Tree cover\",\"Shrubland\",\"Grassland\",\"Cropland\",\"Built-up\",\"Bare / sparse vegetation\",\"Snow and ice\",\"Permanent water bodies\",\"Herbaceous wetland\",\"Mangroves\",\"Moss and lichen\"]\n",
        "bounds = np.append(values, values[-1] + 2)\n",
        "ticks = [15,25,35,45,55,65,75,85,93,97,101]\n",
        "cmap = ListedColormap(colors)\n",
        "norm = BoundaryNorm(bounds, ncolors=len(colors))\n",
        "im2 = ax2.imshow(LANDCOVER*mask,cmap=cmap,norm=norm,interpolation='nearest')\n",
        "ax2.set_title('WorldCover 2021')\n",
        "cbar = fig.colorbar(im2,ax=ax2,ticks = ticks)\n",
        "cbar.ax.set_yticklabels(labels)  # horizontal colorbar\n",
        "\n",
        "\n",
        "colors = ['#ffff00','#894444','#4ce600','#ff00c5','#73ffdf','#ff0000','#0070ff']\n",
        "values =[1,2,3,4,5,6,7]\n",
        "labels = ['Other/Urban','Forested Wetland','Fresh Marsh','Intermed Marsh','Brackish Marsh','Saline Marsh','Open Water']\n",
        "bounds = np.append(values, values[-1] + 1)\n",
        "ticks = [1.5,2.5,3.5,4.5,5.5,6.5,7.5]\n",
        "cmap = ListedColormap(colors)\n",
        "norm = BoundaryNorm(bounds, ncolors=len(colors))\n",
        "im3 = ax3.imshow(SALINITY*mask,cmap=cmap,norm=norm,interpolation='nearest')\n",
        "cbar = fig.colorbar(im3,ax=ax3,ticks = ticks)\n",
        "cbar.ax.set_yticklabels(labels)  # horizontal colorbar\n",
        "ax3.set_title('Salinity Type')\n",
        "\n",
        "\n",
        "im4 = ax4.imshow(IMAR*mask,vmin=0,vmax=.5,interpolation='nearest')\n",
        "ax4.set_title('Mineral Deposition (g/cm2/yr)')\n",
        "fig.colorbar(im4,ax = ax4)\n"
      ]
    },
    {
      "cell_type": "markdown",
      "id": "d1c22d48",
      "metadata": {
        "id": "d1c22d48"
      },
      "source": [
        "## Run NUMAR model for 10 years"
      ]
    },
    {
      "cell_type": "code",
      "execution_count": null,
      "id": "b8436a70-7271-4185-b32a-becd6934aed9",
      "metadata": {
        "id": "b8436a70-7271-4185-b32a-becd6934aed9"
      },
      "outputs": [],
      "source": [
        "run_config = pd.DataFrame({\n",
        "                    'lat':lats.flatten(),\n",
        "                    'long':lons.flatten()\n",
        "                        })"
      ]
    },
    {
      "cell_type": "code",
      "execution_count": null,
      "id": "0f3a32f5-b7d6-4645-92df-fe6502a7b380",
      "metadata": {
        "id": "0f3a32f5-b7d6-4645-92df-fe6502a7b380"
      },
      "outputs": [],
      "source": [
        "parameters_df = pd.read_csv(script_dir/'parameters_by_class.csv')\n",
        "parameters = parameters_df.columns\n"
      ]
    },
    {
      "cell_type": "code",
      "execution_count": null,
      "id": "dc613458-2f02-4cad-b266-8cecbce84b4c",
      "metadata": {
        "id": "dc613458-2f02-4cad-b266-8cecbce84b4c"
      },
      "outputs": [],
      "source": [
        "for parameter in parameters[2:14]:\n",
        "    print(parameter)\n",
        "    lut = parameters_df[parameter].values\n",
        "    classes2 = np.where(np.isnan(CLASSES),0,CLASSES).astype(int)\n",
        "    output = lut[classes2]*mask\n",
        "    run_config[parameter] = output.flatten()"
      ]
    },
    {
      "cell_type": "code",
      "source": [
        "classes2"
      ],
      "metadata": {
        "id": "4dj6izx6t_mo"
      },
      "id": "4dj6izx6t_mo",
      "execution_count": null,
      "outputs": []
    },
    {
      "cell_type": "code",
      "execution_count": null,
      "id": "52aaffe6-f913-4757-9bb6-70fdd7081625",
      "metadata": {
        "id": "52aaffe6-f913-4757-9bb6-70fdd7081625"
      },
      "outputs": [],
      "source": [
        "oms = calculate_organicmatter_loading(IMAR,classes2,mask,parameters_df['omssi'].values)\n",
        "run_config['oms'] = oms.flatten()\n",
        "run_config['si'] = MORPHO.flatten()\n",
        "\n",
        "r0 = calculate_belowground_biomass(AGB,mask,classes2,parameters_df['e'].values,parameters_df['bgbagb'].values)\n",
        "run_config['r0'] = r0.flatten()"
      ]
    },
    {
      "cell_type": "code",
      "execution_count": null,
      "id": "7646a5c7-e9a2-4a8a-8f4c-22baf858806e",
      "metadata": {
        "id": "7646a5c7-e9a2-4a8a-8f4c-22baf858806e"
      },
      "outputs": [],
      "source": [
        "run_config = run_config.dropna().reset_index()\n",
        "run_config['id'] = run_config.index\n",
        "\n",
        "print('There are %s pixels' %(len(run_config)))"
      ]
    },
    {
      "cell_type": "code",
      "execution_count": null,
      "id": "b091f27d-053b-41f0-9f29-6c691d91c364",
      "metadata": {
        "id": "b091f27d-053b-41f0-9f29-6c691d91c364"
      },
      "outputs": [],
      "source": [
        "run_config[:].to_csv(example_dir/'NUMAR_Landscape_Input.csv')"
      ]
    },
    {
      "cell_type": "markdown",
      "source": [
        "The next cell will run the model. We are running at a reduced resolution (100m) to allow faster computation time. In Google Colab, this will take 3-4 hours."
      ],
      "metadata": {
        "id": "8vka8lm9rkUf"
      },
      "id": "8vka8lm9rkUf"
    },
    {
      "cell_type": "code",
      "execution_count": null,
      "id": "e6a57253-b07d-4cce-9be9-fce09e701d9a",
      "metadata": {
        "id": "e6a57253-b07d-4cce-9be9-fce09e701d9a"
      },
      "outputs": [],
      "source": [
        "year100 = run_numar(example_dir/'NUMAR_Landscape_Input_%s.csv' %(res),example_dir/'NUMAR_Landscape_Results_%s.csv' %(res))"
      ]
    },
    {
      "cell_type": "code",
      "execution_count": null,
      "id": "vBhwEfzbV5lk",
      "metadata": {
        "id": "vBhwEfzbV5lk"
      },
      "outputs": [],
      "source": [
        "# year100 = pd.read_csv(example_dir/'NUMAR_Landscape_Results_%s.csv' %(res))\n",
        "year100"
      ]
    },
    {
      "cell_type": "code",
      "execution_count": null,
      "id": "bbd19359-cc35-4d27-9514-8705e9f6c866",
      "metadata": {
        "id": "bbd19359-cc35-4d27-9514-8705e9f6c866"
      },
      "outputs": [],
      "source": [
        "for year in np.arange(10,110,10):\n",
        "    fig, ax= plt.subplots(1,1, subplot_kw={'projection': ccrs.epsg(EPSG)})\n",
        "    sc = ax.scatter(year100['long'],year100['lat'],s=0.005,vmin=0,vmax=3, c=year100['Total Accretion %syrs (cm)' %(year)]/year)\n",
        "    plt.colorbar(sc,label='Mean Accretion Rate (cm/yr)',shrink=0.3)\n",
        "    plt.title('Year: ' + str(year))\n",
        "    ax.set_extent([AOI.bounds.left,AOI.bounds.right,AOI.bounds.bottom,AOI.bounds.top], crs=ccrs.epsg(EPSG))\n",
        "    fig.tight_layout()\n",
        "    fig.savefig(example_dir/('MeanAccretion_Year%s.png'%(str(year).zfill(3))))\n",
        "    plt.close()\n",
        "fig, ax= plt.subplots(1,1, subplot_kw={'projection': ccrs.epsg(EPSG)})\n",
        "sc = ax.scatter(year100['long'],year100['lat'],s=0.005,vmin=0,vmax=3, c=year100['Mean Accretion (cm/yr)'])\n",
        "plt.colorbar(sc,label='Mean Accretion Rate (cm/yr)',shrink=0.3)\n",
        "plt.title('Year: ' + str(year))\n",
        "ax.set_extent([AOI.bounds.left,AOI.bounds.right,AOI.bounds.bottom,AOI.bounds.top], crs=ccrs.epsg(EPSG))\n",
        "fig.tight_layout()\n",
        "fig.savefig(example_dir/('MeanAccretion_100yr.png'))"
      ]
    },
    {
      "cell_type": "code",
      "execution_count": null,
      "id": "895d9817-72a7-40f4-978c-5ca1db92d961",
      "metadata": {
        "id": "895d9817-72a7-40f4-978c-5ca1db92d961"
      },
      "outputs": [],
      "source": [
        "all_figs = [os.path.join(dirpath,f)\n",
        "                for dirpath,dirnames, files in os.walk(example_dir)\n",
        "                for f in fnmatch.filter(files,'MeanAccretion_Year*.png' )]\n",
        "all_figs.sort()\n",
        "with imageio.get_writer(example_dir / ('MeanAccretion_all.gif' ),mode='I',duration=500) as writer:\n",
        "    for file in all_figs:\n",
        "        image = imageio.imread(file)\n",
        "        writer.append_data(image)\n",
        "\n"
      ]
    },
    {
      "cell_type": "code",
      "execution_count": null,
      "id": "b74ff74e-1d04-4998-b972-0d4bf11b7422",
      "metadata": {
        "id": "b74ff74e-1d04-4998-b972-0d4bf11b7422"
      },
      "outputs": [],
      "source": [
        "os.system('rm -r %s' %(tmp_dir))"
      ]
    },
    {
      "cell_type": "code",
      "execution_count": null,
      "id": "62f17679-2fa9-4547-a2fa-f107965c951e",
      "metadata": {
        "id": "62f17679-2fa9-4547-a2fa-f107965c951e"
      },
      "outputs": [],
      "source": []
    }
  ],
  "metadata": {
    "colab": {
      "provenance": []
    },
    "kernelspec": {
      "display_name": "numar",
      "language": "python",
      "name": "numar"
    },
    "language_info": {
      "codemirror_mode": {
        "name": "ipython",
        "version": 3
      },
      "file_extension": ".py",
      "mimetype": "text/x-python",
      "name": "python",
      "nbconvert_exporter": "python",
      "pygments_lexer": "ipython3",
      "version": "3.12.3"
    }
  },
  "nbformat": 4,
  "nbformat_minor": 5
}